{
 "cells": [
  {
   "cell_type": "code",
   "execution_count": 1,
   "id": "47be0b90",
   "metadata": {},
   "outputs": [],
   "source": [
    "import numpy as np\n",
    "import healpy\n",
    "import pandas as pd"
   ]
  },
  {
   "cell_type": "code",
   "execution_count": 2,
   "id": "beea4e76",
   "metadata": {},
   "outputs": [
    {
     "data": {
      "text/html": [
       "<div>\n",
       "<style scoped>\n",
       "    .dataframe tbody tr th:only-of-type {\n",
       "        vertical-align: middle;\n",
       "    }\n",
       "\n",
       "    .dataframe tbody tr th {\n",
       "        vertical-align: top;\n",
       "    }\n",
       "\n",
       "    .dataframe thead th {\n",
       "        text-align: right;\n",
       "    }\n",
       "</style>\n",
       "<table border=\"1\" class=\"dataframe\">\n",
       "  <thead>\n",
       "    <tr style=\"text-align: right;\">\n",
       "      <th></th>\n",
       "      <th>dec</th>\n",
       "      <th>pred</th>\n",
       "      <th>ra</th>\n",
       "    </tr>\n",
       "  </thead>\n",
       "  <tbody>\n",
       "    <tr>\n",
       "      <th>0</th>\n",
       "      <td>-44.993047</td>\n",
       "      <td>0.000006</td>\n",
       "      <td>0.086589</td>\n",
       "    </tr>\n",
       "    <tr>\n",
       "      <th>1</th>\n",
       "      <td>-44.951561</td>\n",
       "      <td>0.000006</td>\n",
       "      <td>0.003508</td>\n",
       "    </tr>\n",
       "    <tr>\n",
       "      <th>2</th>\n",
       "      <td>-44.982543</td>\n",
       "      <td>0.000006</td>\n",
       "      <td>0.022262</td>\n",
       "    </tr>\n",
       "    <tr>\n",
       "      <th>3</th>\n",
       "      <td>-44.952685</td>\n",
       "      <td>0.000007</td>\n",
       "      <td>0.008232</td>\n",
       "    </tr>\n",
       "    <tr>\n",
       "      <th>4</th>\n",
       "      <td>-44.966183</td>\n",
       "      <td>0.000010</td>\n",
       "      <td>0.091656</td>\n",
       "    </tr>\n",
       "  </tbody>\n",
       "</table>\n",
       "</div>"
      ],
      "text/plain": [
       "         dec      pred        ra\n",
       "0 -44.993047  0.000006  0.086589\n",
       "1 -44.951561  0.000006  0.003508\n",
       "2 -44.982543  0.000006  0.022262\n",
       "3 -44.952685  0.000007  0.008232\n",
       "4 -44.966183  0.000010  0.091656"
      ]
     },
     "execution_count": 2,
     "metadata": {},
     "output_type": "execute_result"
    }
   ],
   "source": [
    "data = pd.read_csv('data/Karina_scores.csv')\n",
    "#data = data.head(10000)\n",
    "data.head()"
   ]
  },
  {
   "cell_type": "code",
   "execution_count": 3,
   "id": "dc54b700",
   "metadata": {},
   "outputs": [
    {
     "name": "stdout",
     "output_type": "stream",
     "text": [
      "CPU times: user 37min 13s, sys: 17.6 s, total: 37min 31s\n",
      "Wall time: 2h 49min 10s\n"
     ]
    }
   ],
   "source": [
    "%%time\n",
    "#64, 128, 256\n",
    "pixel4096, pixel1024, pixel16384 = [], [], []\n",
    "for index, row in data.iterrows():\n",
    "    #if(index == 20): break\n",
    "    ra, dec = row['ra'], row['dec']\n",
    "    new_pix4096 = healpy.ang2pix(64, ra, dec, lonlat = True, nest = True)\n",
    "    new_pix1024 = healpy.ang2pix(128, ra, dec, lonlat = True, nest = True)\n",
    "    #new_pix16384 = healpy.ang2pix(256, ra, dec, lonlat = True, nest = True)\n",
    "    #new_pix512 = healpy.ang2pix(512, ra, dec, lonlat = True, nest = True)\n",
    "    #pixel512.append(new_pix512)\n",
    "    pixel4096.append(new_pix4096)\n",
    "    pixel1024.append(new_pix1024)\n",
    "    #pixel16384.append(new_pix16384)\n",
    "    \n",
    "data['HPIX_64'] = pixel4096\n",
    "data['HPIX_128'] = pixel1024\n",
    "#data['HPIX_256'] = pixel16384\n",
    "#data['HPIX_512'] = pixel512\n",
    "\n",
    "#data.to_csv('data/test.csv')\n",
    "data.to_csv('Karina_scores_hpix.csv', index=False)"
   ]
  },
  {
   "cell_type": "code",
   "execution_count": 4,
   "id": "3218df8a",
   "metadata": {},
   "outputs": [
    {
     "data": {
      "text/html": [
       "<div>\n",
       "<style scoped>\n",
       "    .dataframe tbody tr th:only-of-type {\n",
       "        vertical-align: middle;\n",
       "    }\n",
       "\n",
       "    .dataframe tbody tr th {\n",
       "        vertical-align: top;\n",
       "    }\n",
       "\n",
       "    .dataframe thead th {\n",
       "        text-align: right;\n",
       "    }\n",
       "</style>\n",
       "<table border=\"1\" class=\"dataframe\">\n",
       "  <thead>\n",
       "    <tr style=\"text-align: right;\">\n",
       "      <th></th>\n",
       "      <th>dec</th>\n",
       "      <th>pred</th>\n",
       "      <th>ra</th>\n",
       "      <th>HPIX_64</th>\n",
       "      <th>HPIX_128</th>\n",
       "    </tr>\n",
       "  </thead>\n",
       "  <tbody>\n",
       "    <tr>\n",
       "      <th>0</th>\n",
       "      <td>-44.993047</td>\n",
       "      <td>0.000006</td>\n",
       "      <td>0.086589</td>\n",
       "      <td>35466</td>\n",
       "      <td>141866</td>\n",
       "    </tr>\n",
       "    <tr>\n",
       "      <th>1</th>\n",
       "      <td>-44.951561</td>\n",
       "      <td>0.000006</td>\n",
       "      <td>0.003508</td>\n",
       "      <td>35488</td>\n",
       "      <td>141952</td>\n",
       "    </tr>\n",
       "    <tr>\n",
       "      <th>2</th>\n",
       "      <td>-44.982543</td>\n",
       "      <td>0.000006</td>\n",
       "      <td>0.022262</td>\n",
       "      <td>35466</td>\n",
       "      <td>141866</td>\n",
       "    </tr>\n",
       "    <tr>\n",
       "      <th>3</th>\n",
       "      <td>-44.952685</td>\n",
       "      <td>0.000007</td>\n",
       "      <td>0.008232</td>\n",
       "      <td>35488</td>\n",
       "      <td>141952</td>\n",
       "    </tr>\n",
       "    <tr>\n",
       "      <th>4</th>\n",
       "      <td>-44.966183</td>\n",
       "      <td>0.000010</td>\n",
       "      <td>0.091656</td>\n",
       "      <td>35466</td>\n",
       "      <td>141866</td>\n",
       "    </tr>\n",
       "  </tbody>\n",
       "</table>\n",
       "</div>"
      ],
      "text/plain": [
       "         dec      pred        ra  HPIX_64  HPIX_128\n",
       "0 -44.993047  0.000006  0.086589    35466    141866\n",
       "1 -44.951561  0.000006  0.003508    35488    141952\n",
       "2 -44.982543  0.000006  0.022262    35466    141866\n",
       "3 -44.952685  0.000007  0.008232    35488    141952\n",
       "4 -44.966183  0.000010  0.091656    35466    141866"
      ]
     },
     "execution_count": 4,
     "metadata": {},
     "output_type": "execute_result"
    }
   ],
   "source": [
    "data.head()"
   ]
  }
 ],
 "metadata": {
  "kernelspec": {
   "display_name": "Python 3 (ipykernel)",
   "language": "python",
   "name": "python3"
  },
  "language_info": {
   "codemirror_mode": {
    "name": "ipython",
    "version": 3
   },
   "file_extension": ".py",
   "mimetype": "text/x-python",
   "name": "python",
   "nbconvert_exporter": "python",
   "pygments_lexer": "ipython3",
   "version": "3.7.13"
  }
 },
 "nbformat": 4,
 "nbformat_minor": 5
}
