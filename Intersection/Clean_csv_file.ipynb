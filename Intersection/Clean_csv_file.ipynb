{
 "cells": [
  {
   "cell_type": "code",
   "execution_count": 1,
   "id": "a4ef7b51",
   "metadata": {},
   "outputs": [],
   "source": [
    "script = False\n",
    "\n",
    "import pandas as pd\n",
    "from collections import OrderedDict\n",
    "from memory_profiler import memory_usage"
   ]
  },
  {
   "cell_type": "code",
   "execution_count": 2,
   "id": "31b16c15",
   "metadata": {},
   "outputs": [],
   "source": [
    "def return_clean_file(filename):\n",
    "    data = pd.read_csv(path+filename, names=column_names.keys())\n",
    "    data.columns = column_names.keys()\n",
    "    data.drop(data.index[0], inplace=True)\n",
    "    \n",
    "    data.dropna(inplace=True)# Step 1: Remove rows with missing values\n",
    "    # Step 2: Remove rows where 'COADD_OBJECT_ID' is not a valid integer\n",
    "    data = data[data['COADD_OBJECT_ID'].astype(str).str.isdigit()]\n",
    "    # Step 3: Remove rows where any other column is not a valid float\n",
    "    for column in data.columns[:-1]:  # Exclude 'COADD_OBJECT_ID' from validation\n",
    "        data = data[pd.to_numeric(data[column], errors='coerce').notnull()]\n",
    "    # Step 4: Round values of all columns (excluding 'COADD_OBJECT_ID') to 5 decimal places\n",
    "    data[data.columns[:-1]] = data[data.columns[:-1]].round(5)\n",
    "    # Reset index\n",
    "    data.reset_index(drop=True, inplace=True)\n",
    "    \n",
    "    data.to_csv('cleaned_'+filename, index=False)"
   ]
  },
  {
   "cell_type": "code",
   "execution_count": 3,
   "id": "58117a13",
   "metadata": {},
   "outputs": [
    {
     "name": "stdout",
     "output_type": "stream",
     "text": [
      "Maximum memory usage: 127.1328125\n",
      "Finished script\n"
     ]
    }
   ],
   "source": [
    "if(script):\n",
    "    path = ''\n",
    "else:\n",
    "    path = 'Y6_detections/'\n",
    "    \n",
    "column_names = OrderedDict([('Single', None), ('Ring', None), ('Smooth', None), ('Companions', None), \n",
    "                            ('SDSS_Spirals', None), ('DES_Spirals', None), ('Crowded', None), \n",
    "                            ('Artifacts', None), ('Most_Negatives', None), ('COADD_OBJECT_ID', None)])\n",
    "\n",
    "filename = 'DES0000+0209.csv'\n",
    "if(script):\n",
    "    filename = sys.argv[1]\n",
    "\n",
    "mem_usage = memory_usage((return_clean_file, (filename,)))\n",
    "print('Maximum memory usage: %s' % max(mem_usage))\n",
    "print('Finished script')"
   ]
  },
  {
   "cell_type": "code",
   "execution_count": 4,
   "id": "662b315a",
   "metadata": {},
   "outputs": [],
   "source": [
    "\"\"\"\n",
    "all_files = pd.read_csv('tiles_n.csv', names=['tile'])\n",
    "for i in range(len(all_files)):\n",
    "    return_clean_file(all_files['tile'].iloc[i])\n",
    "\"\"\"\n",
    "a=1"
   ]
  }
 ],
 "metadata": {
  "kernelspec": {
   "display_name": "Python 3 (ipykernel)",
   "language": "python",
   "name": "python3"
  },
  "language_info": {
   "codemirror_mode": {
    "name": "ipython",
    "version": 3
   },
   "file_extension": ".py",
   "mimetype": "text/x-python",
   "name": "python",
   "nbconvert_exporter": "python",
   "pygments_lexer": "ipython3",
   "version": "3.7.13"
  }
 },
 "nbformat": 4,
 "nbformat_minor": 5
}
