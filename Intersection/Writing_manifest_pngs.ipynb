{
 "cells": [
  {
   "cell_type": "code",
   "execution_count": 1,
   "id": "f7591fb4",
   "metadata": {},
   "outputs": [],
   "source": [
    "script = False\n",
    "\n",
    "import os\n",
    "import pandas as pd\n",
    "import numpy as np\n",
    "from astropy.io import fits\n",
    "import matplotlib.pyplot as plt\n",
    "from astropy.visualization import make_lupton_rgb\n",
    "plt.style.use('dark_background')\n",
    "\n",
    "if(script):\n",
    "    from tqdm import tqdm\n",
    "else: \n",
    "    from tqdm.notebook import tqdm"
   ]
  },
  {
   "cell_type": "code",
   "execution_count": 2,
   "id": "62f03d72",
   "metadata": {},
   "outputs": [],
   "source": [
    "def make_one_plot(objects, title, data, Q, stretch, minimum):\n",
    "    plt.figure(figsize=(4,4))\n",
    "    rgb = make_lupton_rgb(objects[2], objects[1], objects[0], Q=Q, stretch=stretch, minimum=minimum)\n",
    "    rgb = np.flipud(rgb)\n",
    "    \n",
    "    plt.imshow(rgb, aspect='equal')\n",
    "    plt.xticks([], [])\n",
    "    plt.yticks([], []) \n",
    "    plt.savefig(png_path + title, bbox_inches='tight')\n",
    "    #plt.show()\n",
    "    plt.close()\n",
    "    \n",
    "def make_one_plot_brit(objects, title, data):\n",
    "    plt.figure(figsize=(4,4))\n",
    "    \n",
    "    imager = 0.0005*objects[2] \n",
    "    imageg = 3*objects[1] \n",
    "    imageb = 15*objects[0] \n",
    "    rgb = np.array([imager, imageg, imageb])\n",
    "    #Making sure values are lower or equal to 255\n",
    "    rgb = np.clip(rgb, 0, 255).astype(np.uint8)\n",
    "    rgb = rgb.transpose(1, 2, 0)\n",
    "    #Increasing contrast\n",
    "    min_img, max_img = np.min(rgb), np.max(rgb)     \n",
    "    LUT=np.zeros(256,dtype=np.uint8)\n",
    "    LUT[min_img:max_img+1]=np.linspace(start=0,stop=255,num=(max_img-min_img)+1,endpoint=True,dtype=np.uint8)\n",
    "    rgb = LUT[rgb]\n",
    "    rgb = np.flipud(rgb)\n",
    "                \n",
    "    plt.imshow(rgb, aspect='equal')\n",
    "    plt.xticks([], [])\n",
    "    plt.yticks([], []) \n",
    "    \n",
    "    plt.savefig(png_path + title, bbox_inches='tight')\n",
    "    #plt.show()\n",
    "    plt.close()"
   ]
  },
  {
   "cell_type": "code",
   "execution_count": 3,
   "id": "d6783eea",
   "metadata": {},
   "outputs": [
    {
     "name": "stdout",
     "output_type": "stream",
     "text": [
      "1672 1672\n"
     ]
    }
   ],
   "source": [
    "N = 500\n",
    "filepath = 'data/in_sled2.fits'\n",
    "hdu_list = fits.open(filepath)\n",
    "images = hdu_list[1].data#[0:N]\n",
    "data = pd.DataFrame(hdu_list[2].data)#.iloc[0:N]\n",
    "hdu_list.close()\n",
    "\n",
    "print(len(images), len(data))"
   ]
  },
  {
   "cell_type": "code",
   "execution_count": 4,
   "id": "8aea79f2",
   "metadata": {},
   "outputs": [],
   "source": [
    "data['#subject_id'] = range(0, len(data))\n",
    "data['#NEW_ID'] = range(0, len(data))\n",
    "data['#image_name_1'] = data['#NEW_ID'].apply(lambda x: f'pngs/sled_{x}_1.png')\n",
    "data['#image_name_2'] = data['#NEW_ID'].apply(lambda x: f'pngs/sled_{x}_2.png')\n",
    "data['#image_name_3'] = data['#NEW_ID'].apply(lambda x: f'pngs/sled_{x}_3.png')\n",
    "data['#image_name_4'] = data['#NEW_ID'].apply(lambda x: f'pngs/sled_{x}_4.png')\n",
    "data['!Subject Type'] = ['Test Subject']*len(data)\n",
    "#data['#Type'] = ['SUB']*len(data)\n",
    "#data['#SubType'] = ['SUB']*len(data)\n",
    "#data['#Provenance'] = ['DES-VT-JG']*len(data)\n",
    "data['Colours'] = ['gri']*len(data)\n",
    "data['Size-in-arcsec'] = ['20']*len(data)\n",
    "data['#CLASS'] = ['single_cand']*len(data)\n",
    "#data['#REPORTED'] = [False]*len(data)\n",
    "#data['#REF'] = [None]*len(data)\n",
    "#data['!Previously published lens candidate?'] = ['No']*len(data)"
   ]
  },
  {
   "cell_type": "code",
   "execution_count": 5,
   "id": "edc390d8",
   "metadata": {},
   "outputs": [
    {
     "name": "stdout",
     "output_type": "stream",
     "text": [
      "Index(['#subject_id', '#NEW_ID', '#image_name_1', '#image_name_2',\n",
      "       '#image_name_3', '#image_name_4', '!Subject Type', 'Colours',\n",
      "       'Size-in-arcsec', '#CLASS'],\n",
      "      dtype='object')\n",
      "Index(['COADD_OBJECT_ID', 'K_RA', 'K_DEC', 'K_SCORE', 'Y3_COADD_OBJECT_ID',\n",
      "       'J_RA', 'J_DEC', 'score_sims', 'score_real', 'score_both', 'G_RA',\n",
      "       'G_DEC', 'SINGLE', 'RING', 'SMOOTH', 'COMPANIONS', 'SDSS_SPIRALS',\n",
      "       'DES_SPIRALS', 'CROWDED', 'ARTIFACTS', 'MOST_NEGATIVES', 'index', 'ra',\n",
      "       'dec', 'name', 'score', 'image_sep', 'info', 'n_img', 'flag',\n",
      "       'image_conf', 'lens_type', 'source_type', 'contaminant_type', 'papers',\n",
      "       '#subject_id', '#NEW_ID', '#image_name_1', '#image_name_2',\n",
      "       '#image_name_3', '#image_name_4', '!Subject Type', 'Colours',\n",
      "       'Size-in-arcsec', '#CLASS'],\n",
      "      dtype='object')\n"
     ]
    }
   ],
   "source": [
    "col_drop = ['COADD_OBJECT_ID', 'K_RA', 'K_DEC', 'K_SCORE', 'Y3_COADD_OBJECT_ID',\n",
    "       'J_RA', 'J_DEC', 'score_sims', 'score_real', 'score_both', 'G_RA',\n",
    "       'G_DEC', 'SINGLE', 'RING', 'SMOOTH', 'COMPANIONS', 'SDSS_SPIRALS',\n",
    "       'DES_SPIRALS', 'CROWDED', 'ARTIFACTS', 'MOST_NEGATIVES', 'index', 'ra',\n",
    "       'dec', 'name', 'score', 'image_sep', 'info', 'n_img', 'flag',\n",
    "       'image_conf', 'lens_type', 'source_type', 'contaminant_type', 'papers']\n",
    "\n",
    "new_data = data.drop(col_drop, axis=1)\n",
    "\n",
    "path = 'data/For_zooniverse/'\n",
    "data.to_csv(path + 'complete_manifest.csv', index=False)\n",
    "new_data.to_csv(path + 'manifest.csv', index=False)\n",
    "\n",
    "print(new_data.columns)\n",
    "print(data.columns)"
   ]
  },
  {
   "cell_type": "code",
   "execution_count": 6,
   "id": "945e15d3",
   "metadata": {},
   "outputs": [
    {
     "data": {
      "application/vnd.jupyter.widget-view+json": {
       "model_id": "0ea752295a514da9b8b3ea20c22df50e",
       "version_major": 2,
       "version_minor": 0
      },
      "text/plain": [
       "  0%|          | 0/1672 [00:00<?, ?it/s]"
      ]
     },
     "metadata": {},
     "output_type": "display_data"
    }
   ],
   "source": [
    "png_path = path \n",
    "\n",
    "for i in tqdm(range(len(data))):\n",
    "    #if(i == 5): break\n",
    "    path_exists = png_path + data['#image_name_4'].iloc[i]\n",
    "    if(os.path.exists(path_exists)):\n",
    "        continue\n",
    "    make_one_plot(images[i], data['#image_name_1'].iloc[i], data.iloc[i], 9, 60, (0,0,0)) # new first filter\n",
    "    make_one_plot(images[i], data['#image_name_2'].iloc[i], data.iloc[i], 8, 40, (14,2,0)) # new second filter\n",
    "    make_one_plot(images[i], data['#image_name_3'].iloc[i], data.iloc[i], 10, 37, (12,6,0)) # new third filter\n",
    "    make_one_plot_brit(images[i], data['#image_name_4'].iloc[i], data.iloc[i])"
   ]
  }
 ],
 "metadata": {
  "kernelspec": {
   "display_name": "Python 3 (ipykernel)",
   "language": "python",
   "name": "python3"
  },
  "language_info": {
   "codemirror_mode": {
    "name": "ipython",
    "version": 3
   },
   "file_extension": ".py",
   "mimetype": "text/x-python",
   "name": "python",
   "nbconvert_exporter": "python",
   "pygments_lexer": "ipython3",
   "version": "3.7.13"
  }
 },
 "nbformat": 4,
 "nbformat_minor": 5
}
