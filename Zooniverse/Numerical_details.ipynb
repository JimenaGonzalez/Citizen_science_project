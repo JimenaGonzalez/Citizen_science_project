{
 "cells": [
  {
   "cell_type": "code",
   "execution_count": 1,
   "id": "65490fb2",
   "metadata": {},
   "outputs": [],
   "source": [
    "import pandas as pd\n",
    "import numpy as np\n",
    "from astropy.io import fits\n",
    "\n",
    "import matplotlib.pyplot as plt\n",
    "from astropy.visualization import make_lupton_rgb\n",
    "plt.style.use('dark_background')"
   ]
  },
  {
   "cell_type": "code",
   "execution_count": 16,
   "id": "de499ffb",
   "metadata": {},
   "outputs": [
    {
     "name": "stdout",
     "output_type": "stream",
     "text": [
      "Highest Rojas:  0.006727251\n",
      "Highest Jacobs:  0.0033\n",
      "Highest Gonzalez:  0.001\n"
     ]
    }
   ],
   "source": [
    "#Response to Phil - Specific ~0\n",
    "\n",
    "filepath = '/Users/jimenagonzalez/research/DSPL/Citizen_science_project/Intersection/'\n",
    "data_inter = pd.read_csv(filepath + 'intersection.csv')\n",
    "data_inter = data_inter.dropna()  # Remove rows with NaN values\n",
    "data_inter = data_inter.replace([np.inf, -np.inf], np.nan).dropna()\n",
    "\n",
    "#80% of len(data_inter) is 602578\n",
    "\n",
    "data_inter.sort_values(by='K_SCORE', inplace=True)\n",
    "data_tmp = data_inter.head(602578)\n",
    "print('Highest Rojas: ', data_tmp['K_SCORE'].iloc[-1])\n",
    "\n",
    "data_inter.sort_values(by='score_sims', inplace=True)\n",
    "data_tmp = data_inter.head(602578)\n",
    "print('Highest Jacobs: ', data_tmp['score_sims'].iloc[-1])\n",
    "\n",
    "data_inter.sort_values(by='SINGLE', inplace=True)\n",
    "data_tmp = data_inter.head(602578)\n",
    "print('Highest Gonzalez: ', data_tmp['SINGLE'].iloc[-1])\n",
    "\n",
    "#maximum value of prob: 0.007"
   ]
  },
  {
   "cell_type": "code",
   "execution_count": 2,
   "id": "48aed7ff",
   "metadata": {},
   "outputs": [],
   "source": [
    "data_zoo = pd.read_csv('data/complete_data.csv')\n",
    "\n",
    "filepath = '/Users/jimenagonzalez/research/DSPL/Citizen_science_project/Intersection/data/in_sled2.fits'\n",
    "hdu_list = fits.open(filepath)\n",
    "images = hdu_list[1].data\n",
    "data = pd.DataFrame(hdu_list[2].data)\n",
    "hdu_list.close()\n",
    "\n",
    "data.replace('None', np.nan, inplace=True)\n",
    "data = data.astype({'COADD_OBJECT_ID': int, 'K_RA': float, 'K_DEC': float, 'K_SCORE': float, 'Y3_COADD_OBJECT_ID': int,\n",
    "       'J_RA': float, 'J_DEC': float, 'score_sims': float, 'score_real': float, 'score_both': float, 'G_RA': float,\n",
    "       'G_DEC': float, 'SINGLE': float, 'RING': float, 'SMOOTH': float, 'COMPANIONS': float, 'SDSS_SPIRALS': float,\n",
    "       'DES_SPIRALS': float, 'CROWDED': float, 'ARTIFACTS': float, 'MOST_NEGATIVES': float, 'index': int, 'ra': float,\n",
    "       'dec': float, 'name': str, 'score': float, 'image_sep': float, 'info': str, 'n_img': float, 'flag': str,\n",
    "       'image_conf': str, 'lens_type': str, 'source_type': str, 'contaminant_type': str, 'papers': str})\n",
    "\n",
    "#Getting the images\n",
    "data.set_index('COADD_OBJECT_ID', inplace=True)\n",
    "data_zoo.set_index('COADD_OBJECT_ID', inplace=True)\n",
    "# Reindex 'data' to match the index of 'data_zoo'\n",
    "data = data.reindex(data_zoo.index)\n",
    "# Reset index if needed\n",
    "data.reset_index(inplace=True)\n",
    "data_zoo.reset_index(inplace=True)\n",
    "images = images[data.index]"
   ]
  },
  {
   "cell_type": "code",
   "execution_count": 3,
   "id": "0f837380",
   "metadata": {},
   "outputs": [
    {
     "name": "stdout",
     "output_type": "stream",
     "text": [
      "1651\n",
      " \n",
      "275\n",
      "88\n",
      "Percentage moderate candidates with all ML scores < 0.8: 32.00%\n",
      " \n",
      "93\n",
      "16\n",
      "Percentage moderate candidates with all ML scores < 0.8: 17.20%\n",
      " \n",
      "48\n",
      "1\n",
      "Percentage moderate candidates with all ML scores < 0.8: 2.08%\n"
     ]
    }
   ],
   "source": [
    "# For most important paragraph. Most high-confidence candidates are recovered by the three works combined.\n",
    "\n",
    "print(len(data_zoo))\n",
    "\n",
    "# Candidates with ambiguous confidence\n",
    "print(' ')\n",
    "data_tmp = data_zoo[(data_zoo['average'] >= 1) & (data_zoo['average'] < 1.5)]\n",
    "print(len(data_tmp))\n",
    "print(len(data_tmp[(data_tmp['score_sims'] < 0.8) & (data_tmp['K_SCORE'] < 0.8) & (data_tmp['SINGLE'] < 0.8)]))\n",
    "print('Percentage moderate candidates with all ML scores < 0.8: {:.2f}%'.format(88/275*100))\n",
    "\n",
    "# Candidates with moderate confidence\n",
    "print(' ')\n",
    "data_tmp = data_zoo[(data_zoo['average'] >= 1.5) & (data_zoo['average'] < 2)]\n",
    "print(len(data_tmp))\n",
    "print(len(data_tmp[(data_tmp['score_sims'] < 0.8) & (data_tmp['K_SCORE'] < 0.8) & (data_tmp['SINGLE'] < 0.8)]))\n",
    "print('Percentage moderate candidates with all ML scores < 0.8: {:.2f}%'.format(16/93*100))\n",
    "\n",
    "# Candidates with high confidence\n",
    "print(' ')\n",
    "data_tmp = data_zoo[(data_zoo['average'] >= 2)]\n",
    "print(len(data_tmp))\n",
    "print(len(data_tmp[(data_tmp['score_sims'] < 0.8) & (data_tmp['K_SCORE'] < 0.8) & (data_tmp['SINGLE'] < 0.8)]))\n",
    "print('Percentage moderate candidates with all ML scores < 0.8: {:.2f}%'.format(1/48*100))"
   ]
  },
  {
   "cell_type": "code",
   "execution_count": 4,
   "id": "826f99f1",
   "metadata": {},
   "outputs": [
    {
     "name": "stdout",
     "output_type": "stream",
     "text": [
      "1651\n",
      "74\n",
      " \n",
      "36\n",
      "Percentage Jacobs ml score < 0.8: 48.65%\n",
      " \n",
      "23\n",
      "Percentage Rojas ml score < 0.8: 31.08%\n",
      " \n",
      "9\n",
      "Percentage Gonzalez ml score < 0.8: 12.16%\n"
     ]
    }
   ],
   "source": [
    "# Studying the recovery individually: successive works recover more and more candidates\n",
    "\n",
    "print(len(data_zoo))\n",
    "\n",
    "# Candidates with moderate-high confidence\n",
    "data_tmp = data_zoo[data_zoo['average'] >= 1.75]\n",
    "print(len(data_tmp))\n",
    "\n",
    "print(' ')\n",
    "print(len(data_tmp[data_tmp['score_sims'] < 0.8]))\n",
    "print('Percentage Jacobs ml score < 0.8: {:.2f}%'.format(36/74*100))\n",
    "\n",
    "# Candidates with moderate confidence\n",
    "print(' ')\n",
    "print(len(data_tmp[data_tmp['K_SCORE'] < 0.8]))\n",
    "print('Percentage Rojas ml score < 0.8: {:.2f}%'.format(23/74*100))\n",
    "\n",
    "# Candidates with high confidence\n",
    "print(' ')\n",
    "print(len(data_tmp[data_tmp['SINGLE'] < 0.8]))\n",
    "print('Percentage Gonzalez ml score < 0.8: {:.2f}%'.format(9/74*100))"
   ]
  },
  {
   "cell_type": "code",
   "execution_count": 5,
   "id": "bc4adc76",
   "metadata": {
    "scrolled": true
   },
   "outputs": [
    {
     "name": "stdout",
     "output_type": "stream",
     "text": [
      " \n",
      "74\n",
      "5\n",
      "Percentage moderate-high candidates with all ML scores < 0.8: 6.76%\n",
      " \n",
      "74\n",
      "69\n",
      "Percentage moderate-high candidates with all ML scores < 0.8: 6.76%\n"
     ]
    }
   ],
   "source": [
    "# Candidates with moderate-high confidence, for conclusion\n",
    "print(' ')\n",
    "data_tmp = data_zoo[data_zoo['average'] >= 1.75]\n",
    "print(len(data_tmp))\n",
    "print(len(data_tmp[(data_tmp['score_sims'] < 0.8) & (data_tmp['K_SCORE'] < 0.8) & (data_tmp['SINGLE'] < 0.8)]))\n",
    "print('Percentage moderate-high candidates with all ML scores < 0.8: {:.2f}%'.format(5/74*100))\n",
    "\n",
    "print(' ')\n",
    "data_tmp = data_zoo[data_zoo['average'] >= 1.75]\n",
    "print(len(data_tmp))\n",
    "print(len(data_tmp[(data_tmp['score_sims'] >= 0.8) | (data_tmp['K_SCORE'] >= 0.8) | (data_tmp['SINGLE'] >= 0.8)]))\n",
    "print('Percentage moderate-high candidates with all ML scores < 0.8: {:.2f}%'.format(5/74*100))"
   ]
  },
  {
   "cell_type": "code",
   "execution_count": null,
   "id": "c71b051c",
   "metadata": {},
   "outputs": [],
   "source": []
  }
 ],
 "metadata": {
  "kernelspec": {
   "display_name": "Python 3 (ipykernel)",
   "language": "python",
   "name": "python3"
  },
  "language_info": {
   "codemirror_mode": {
    "name": "ipython",
    "version": 3
   },
   "file_extension": ".py",
   "mimetype": "text/x-python",
   "name": "python",
   "nbconvert_exporter": "python",
   "pygments_lexer": "ipython3",
   "version": "3.7.16"
  }
 },
 "nbformat": 4,
 "nbformat_minor": 5
}
